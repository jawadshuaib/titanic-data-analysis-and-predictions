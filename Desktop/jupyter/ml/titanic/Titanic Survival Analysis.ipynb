{
  "cells": [
    {
      "cell_type": "markdown",
      "source": [
        "# Titanic Survival Analysis\n",
        "\n",
        "In this notebook, we're going to analyze the Titanic dataset and build machine learning models to predict whether a passenger survived or not based on features like passenger class, sex, and age."
      ],
      "metadata": {
        "noteable": {
          "cell_type": "markdown"
        }
      },
      "id": "51a78b54-9264-46df-9cdb-d5615648629f"
    },
    {
      "cell_type": "code",
      "source": [
        "# Importing necessary libraries\n",
        "# pandas for data manipulation, matplotlib and seaborn for data visualization\n",
        "import pandas as pd\n",
        "import matplotlib.pyplot as plt\n",
        "import seaborn as sns\n",
        "\n",
        "# Load the dataset\n",
        "# pd.read_csv is a simple and efficient function to load structured data files into pandas dataframes\n",
        "df = pd.read_csv('Titanic-Dataset.csv')\n",
        "\n",
        "# Display the first few rows of the dataframe\n",
        "# df.head() is a convenient way to visualize the data we're working with\n",
        "df.head()\n",
        "\n",
        "# Basic analysis\n",
        "# df.describe() provides descriptive statistics of the dataframe\n",
        "print(df.describe())\n",
        "\n",
        "# Visualization\n",
        "# seaborn's countplot function makes it easy to visualize categorical data counts\n",
        "sns.countplot(x='Survived', data=df)\n",
        "plt.title('Survival Count')\n",
        "plt.show()"
      ],
      "outputs": [
        {
          "output_type": "stream",
          "name": "stdout",
          "text": [
            "       PassengerId    Survived      Pclass         Age       SibSp  \\\n",
            "count   891.000000  891.000000  891.000000  714.000000  891.000000   \n",
            "mean    446.000000    0.383838    2.308642   29.699118    0.523008   \n",
            "std     257.353842    0.486592    0.836071   14.526497    1.102743   \n",
            "min       1.000000    0.000000    1.000000    0.420000    0.000000   \n",
            "25%     223.500000    0.000000    2.000000   20.125000    0.000000   \n",
            "50%     446.000000    0.000000    3.000000   28.000000    0.000000   \n",
            "75%     668.500000    1.000000    3.000000   38.000000    1.000000   \n",
            "max     891.000000    1.000000    3.000000   80.000000    8.000000   \n",
            "\n",
            "            Parch        Fare  \n",
            "count  891.000000  891.000000  \n",
            "mean     0.381594   32.204208  \n",
            "std      0.806057   49.693429  \n",
            "min      0.000000    0.000000  \n",
            "25%      0.000000    7.910400  \n",
            "50%      0.000000   14.454200  \n",
            "75%      0.000000   31.000000  \n",
            "max      6.000000  512.329200  \n"
          ]
        },
        {
          "output_type": "display_data",
          "data": {
            "image/png": "[encoded data removed]"
          },
          "metadata": {}
        }
      ],
      "execution_count": null,
      "metadata": {
        "noteable": {},
        "ExecuteTime": {
          "end_time": "2023-08-07T03:36:43.739126+00:00",
          "start_time": "2023-08-07T03:36:42.816291+00:00"
        },
        "datalink": {
          "d57b7255-5390-465d-8600-9ed3af5ad3ba": {
            "applied_filters": [],
            "dataframe_info": {
              "default_index_used": true,
              "orig_num_cols": 12,
              "orig_num_rows": 5,
              "orig_size_bytes": 520,
              "truncated_num_cols": 12,
              "truncated_num_rows": 5,
              "truncated_size_bytes": 520,
              "truncated_string_columns": []
            },
            "display_id": "d57b7255-5390-465d-8600-9ed3af5ad3ba",
            "dx_settings": {
              "ALLOW_NOTEABLE_ATTRS": true,
              "COLUMN_SAMPLING_METHOD": "outer",
              "DB_LOCATION": ":memory:",
              "DEV_MODE": false,
              "DISPLAY_MAX_COLUMNS": 100,
              "DISPLAY_MAX_ROWS": 50000,
              "DISPLAY_MODE": "simple",
              "ENABLE_ASSIGNMENT": true,
              "ENABLE_DATALINK": true,
              "FLATTEN_COLUMN_VALUES": true,
              "FLATTEN_INDEX_VALUES": false,
              "GENERATE_DEX_METADATA": false,
              "HTML_TABLE_SCHEMA": false,
              "LOG_LEVEL": 30,
              "MAX_RENDER_SIZE_BYTES": 104857600,
              "MAX_STRING_LENGTH": 250,
              "NUM_PAST_SAMPLES_TRACKED": 3,
              "RANDOM_STATE": 12648430,
              "RESET_INDEX_VALUES": false,
              "ROW_SAMPLING_METHOD": "random",
              "SAMPLING_FACTOR": 0.1,
              "SAMPLING_METHOD": "random",
              "STRINGIFY_COLUMN_VALUES": true,
              "STRINGIFY_INDEX_VALUES": false
            },
            "sample_history": [],
            "sampling_time": "2023-06-17T21:43:56.233223",
            "user_variable_name": null,
            "variable_name": "unk_dataframe_dca903b817d545f9a113b9d048ce7d91"
          }
        }
      },
      "id": "a3c4111a"
    },
    {
      "cell_type": "code",
      "source": [
        "import pandas as pd\n",
        "import matplotlib.pyplot as plt\n",
        "import seaborn as sns\n",
        "\n",
        "# Load the dataset\n",
        "df = pd.read_csv('Titanic-Dataset.csv')\n",
        "\n",
        "# Display the first few rows of the dataframe\n",
        "df.head()"
      ],
      "outputs": [
        {
          "output_type": "display_data",
          "data": {
            "application/vnd.dataresource+json": {
              "schema": {
                "fields": [
                  {
                    "name": "index",
                    "type": "integer"
                  },
                  {
                    "name": "PassengerId",
                    "type": "integer"
                  },
                  {
                    "name": "Survived",
                    "type": "integer"
                  },
                  {
                    "name": "Pclass",
                    "type": "integer"
                  },
                  {
                    "name": "Name",
                    "type": "string"
                  },
                  {
                    "name": "Sex",
                    "type": "string"
                  },
                  {
                    "name": "Age",
                    "type": "number"
                  },
                  {
                    "name": "SibSp",
                    "type": "integer"
                  },
                  {
                    "name": "Parch",
                    "type": "integer"
                  },
                  {
                    "name": "Ticket",
                    "type": "string"
                  },
                  {
                    "name": "Fare",
                    "type": "number"
                  },
                  {
                    "name": "Cabin",
                    "type": "string"
                  },
                  {
                    "name": "Embarked",
                    "type": "string"
                  }
                ],
                "primaryKey": [
                  "index"
                ],
                "pandas_version": "1.4.0"
              },
              "data": [
                {
                  "index": 0,
                  "PassengerId": 1,
                  "Survived": 0,
                  "Pclass": 3,
                  "Name": "Braund, Mr. Owen Harris",
                  "Sex": "male",
                  "Age": 22,
                  "SibSp": 1,
                  "Parch": 0,
                  "Ticket": "A/5 21171",
                  "Fare": 7.25,
                  "Cabin": null,
                  "Embarked": "S"
                },
                {
                  "index": 1,
                  "PassengerId": 2,
                  "Survived": 1,
                  "Pclass": 1,
                  "Name": "Cumings, Mrs. John Bradley (Florence Briggs Thayer)",
                  "Sex": "female",
                  "Age": 38,
                  "SibSp": 1,
                  "Parch": 0,
                  "Ticket": "PC 17599",
                  "Fare": 71.2833,
                  "Cabin": "C85",
                  "Embarked": "C"
                },
                {
                  "index": 2,
                  "PassengerId": 3,
                  "Survived": 1,
                  "Pclass": 3,
                  "Name": "Heikkinen, Miss. Laina",
                  "Sex": "female",
                  "Age": 26,
                  "SibSp": 0,
                  "Parch": 0,
                  "Ticket": "STON/O2. 3101282",
                  "Fare": 7.925,
                  "Cabin": null,
                  "Embarked": "S"
                },
                {
                  "index": 3,
                  "PassengerId": 4,
                  "Survived": 1,
                  "Pclass": 1,
                  "Name": "Futrelle, Mrs. Jacques Heath (Lily May Peel)",
                  "Sex": "female",
                  "Age": 35,
                  "SibSp": 1,
                  "Parch": 0,
                  "Ticket": "113803",
                  "Fare": 53.1,
                  "Cabin": "C123",
                  "Embarked": "S"
                },
                {
                  "index": 4,
                  "PassengerId": 5,
                  "Survived": 0,
                  "Pclass": 3,
                  "Name": "Allen, Mr. William Henry",
                  "Sex": "male",
                  "Age": 35,
                  "SibSp": 0,
                  "Parch": 0,
                  "Ticket": "373450",
                  "Fare": 8.05,
                  "Cabin": null,
                  "Embarked": "S"
                }
              ],
              "datalink": {
                "display_id": "33eb6dfc-c139-4fc3-ab6d-6b06f11d8440"
              }
            }
          },
          "metadata": {
            "application/vnd.dataresource+json": {
              "datalink": {
                "dataframe_info": {
                  "default_index_used": true,
                  "orig_size_bytes": 520,
                  "orig_num_rows": 5,
                  "orig_num_cols": 12,
                  "truncated_string_columns": [],
                  "truncated_size_bytes": 520,
                  "truncated_num_rows": 5,
                  "truncated_num_cols": 12
                },
                "dx_settings": {
                  "NUM_PAST_SAMPLES_TRACKED": 3,
                  "ENABLE_DATALINK": true,
                  "DISPLAY_MODE": "simple",
                  "GENERATE_DEX_METADATA": false,
                  "STRINGIFY_INDEX_VALUES": false,
                  "ALLOW_NOTEABLE_ATTRS": true,
                  "DISPLAY_MAX_COLUMNS": 100,
                  "HTML_TABLE_SCHEMA": false,
                  "SAMPLING_FACTOR": 0.1,
                  "LOG_LEVEL": 30,
                  "ENABLE_ASSIGNMENT": true,
                  "FLATTEN_INDEX_VALUES": false,
                  "DEV_MODE": false,
                  "COLUMN_SAMPLING_METHOD": "outer",
                  "FLATTEN_COLUMN_VALUES": true,
                  "DISPLAY_MAX_ROWS": 50000,
                  "ROW_SAMPLING_METHOD": "random",
                  "RANDOM_STATE": 12648430,
                  "DB_LOCATION": ":memory:",
                  "STRINGIFY_COLUMN_VALUES": true,
                  "SAMPLING_METHOD": "random",
                  "MAX_STRING_LENGTH": 250,
                  "MAX_RENDER_SIZE_BYTES": 104857600,
                  "RESET_INDEX_VALUES": false
                },
                "display_id": "33eb6dfc-c139-4fc3-ab6d-6b06f11d8440",
                "applied_filters": [],
                "sample_history": [],
                "sampling_time": "2023-08-07T03:36:44.191750",
                "variable_name": "unk_dataframe_610a7ebac640430bb9d60c189f615f61",
                "user_variable_name": null
              },
              "display_id": "33eb6dfc-c139-4fc3-ab6d-6b06f11d8440"
            }
          }
        }
      ],
      "execution_count": null,
      "metadata": {
        "noteable": {
          "cell_type": "code"
        },
        "ExecuteTime": {
          "end_time": "2023-08-07T03:36:44.350794+00:00",
          "start_time": "2023-08-07T03:36:44.118063+00:00"
        },
        "datalink": {
          "dfae45e3-6ead-4767-af19-357cf8ddac6f": {
            "applied_filters": [],
            "dataframe_info": {
              "default_index_used": true,
              "orig_num_cols": 12,
              "orig_num_rows": 5,
              "orig_size_bytes": 520,
              "truncated_num_cols": 12,
              "truncated_num_rows": 5,
              "truncated_size_bytes": 520,
              "truncated_string_columns": []
            },
            "display_id": "dfae45e3-6ead-4767-af19-357cf8ddac6f",
            "dx_settings": {
              "ALLOW_NOTEABLE_ATTRS": true,
              "COLUMN_SAMPLING_METHOD": "outer",
              "DB_LOCATION": ":memory:",
              "DEV_MODE": false,
              "DISPLAY_MAX_COLUMNS": 100,
              "DISPLAY_MAX_ROWS": 50000,
              "DISPLAY_MODE": "simple",
              "ENABLE_ASSIGNMENT": true,
              "ENABLE_DATALINK": true,
              "FLATTEN_COLUMN_VALUES": true,
              "FLATTEN_INDEX_VALUES": false,
              "GENERATE_DEX_METADATA": false,
              "HTML_TABLE_SCHEMA": false,
              "LOG_LEVEL": 30,
              "MAX_RENDER_SIZE_BYTES": 104857600,
              "MAX_STRING_LENGTH": 250,
              "NUM_PAST_SAMPLES_TRACKED": 3,
              "RANDOM_STATE": 12648430,
              "RESET_INDEX_VALUES": false,
              "ROW_SAMPLING_METHOD": "random",
              "SAMPLING_FACTOR": 0.1,
              "SAMPLING_METHOD": "random",
              "STRINGIFY_COLUMN_VALUES": true,
              "STRINGIFY_INDEX_VALUES": false
            },
            "sample_history": [],
            "sampling_time": "2023-06-17T20:42:36.667408",
            "user_variable_name": null,
            "variable_name": "unk_dataframe_a2953fad9d4945e3a42ca0df37627ea1"
          },
          "f6a7666c-ad8d-4e1b-b5ba-0dafea49ccef": {
            "applied_filters": [],
            "dataframe_info": {
              "default_index_used": true,
              "orig_num_cols": 12,
              "orig_num_rows": 5,
              "orig_size_bytes": 520,
              "truncated_num_cols": 12,
              "truncated_num_rows": 5,
              "truncated_size_bytes": 520,
              "truncated_string_columns": []
            },
            "display_id": "f6a7666c-ad8d-4e1b-b5ba-0dafea49ccef",
            "dx_settings": {
              "ALLOW_NOTEABLE_ATTRS": true,
              "COLUMN_SAMPLING_METHOD": "outer",
              "DB_LOCATION": ":memory:",
              "DEV_MODE": false,
              "DISPLAY_MAX_COLUMNS": 100,
              "DISPLAY_MAX_ROWS": 50000,
              "DISPLAY_MODE": "simple",
              "ENABLE_ASSIGNMENT": true,
              "ENABLE_DATALINK": true,
              "FLATTEN_COLUMN_VALUES": true,
              "FLATTEN_INDEX_VALUES": false,
              "GENERATE_DEX_METADATA": false,
              "HTML_TABLE_SCHEMA": false,
              "LOG_LEVEL": 30,
              "MAX_RENDER_SIZE_BYTES": 104857600,
              "MAX_STRING_LENGTH": 250,
              "NUM_PAST_SAMPLES_TRACKED": 3,
              "RANDOM_STATE": 12648430,
              "RESET_INDEX_VALUES": false,
              "ROW_SAMPLING_METHOD": "random",
              "SAMPLING_FACTOR": 0.1,
              "SAMPLING_METHOD": "random",
              "STRINGIFY_COLUMN_VALUES": true,
              "STRINGIFY_INDEX_VALUES": false
            },
            "sample_history": [],
            "sampling_time": "2023-06-17T21:43:56.468758",
            "user_variable_name": null,
            "variable_name": "unk_dataframe_e5333fd861e5486da44b6d880c0b4aba"
          },
          "23251aea-4256-4995-a929-03d4ba1882bf": {
            "applied_filters": [],
            "dataframe_info": {
              "default_index_used": true,
              "orig_num_cols": 12,
              "orig_num_rows": 5,
              "orig_size_bytes": 520,
              "truncated_num_cols": 12,
              "truncated_num_rows": 5,
              "truncated_size_bytes": 520,
              "truncated_string_columns": []
            },
            "display_id": "23251aea-4256-4995-a929-03d4ba1882bf",
            "dx_settings": {
              "ALLOW_NOTEABLE_ATTRS": true,
              "COLUMN_SAMPLING_METHOD": "outer",
              "DB_LOCATION": ":memory:",
              "DEV_MODE": false,
              "DISPLAY_MAX_COLUMNS": 100,
              "DISPLAY_MAX_ROWS": 50000,
              "DISPLAY_MODE": "simple",
              "ENABLE_ASSIGNMENT": true,
              "ENABLE_DATALINK": true,
              "FLATTEN_COLUMN_VALUES": true,
              "FLATTEN_INDEX_VALUES": false,
              "GENERATE_DEX_METADATA": false,
              "HTML_TABLE_SCHEMA": false,
              "LOG_LEVEL": 30,
              "MAX_RENDER_SIZE_BYTES": 104857600,
              "MAX_STRING_LENGTH": 250,
              "NUM_PAST_SAMPLES_TRACKED": 3,
              "RANDOM_STATE": 12648430,
              "RESET_INDEX_VALUES": false,
              "ROW_SAMPLING_METHOD": "random",
              "SAMPLING_FACTOR": 0.1,
              "SAMPLING_METHOD": "random",
              "STRINGIFY_COLUMN_VALUES": true,
              "STRINGIFY_INDEX_VALUES": false
            },
            "sample_history": [],
            "sampling_time": "2023-06-17T22:13:25.379030",
            "user_variable_name": null,
            "variable_name": "unk_dataframe_01efe2b9bfe54577bfa85c7931605c86"
          },
          "33eb6dfc-c139-4fc3-ab6d-6b06f11d8440": {
            "applied_filters": [],
            "dataframe_info": {
              "default_index_used": true,
              "orig_num_cols": 12,
              "orig_num_rows": 5,
              "orig_size_bytes": 520,
              "truncated_num_cols": 12,
              "truncated_num_rows": 5,
              "truncated_size_bytes": 520,
              "truncated_string_columns": []
            },
            "display_id": "33eb6dfc-c139-4fc3-ab6d-6b06f11d8440",
            "dx_settings": {
              "ALLOW_NOTEABLE_ATTRS": true,
              "COLUMN_SAMPLING_METHOD": "outer",
              "DB_LOCATION": ":memory:",
              "DEV_MODE": false,
              "DISPLAY_MAX_COLUMNS": 100,
              "DISPLAY_MAX_ROWS": 50000,
              "DISPLAY_MODE": "simple",
              "ENABLE_ASSIGNMENT": true,
              "ENABLE_DATALINK": true,
              "FLATTEN_COLUMN_VALUES": true,
              "FLATTEN_INDEX_VALUES": false,
              "GENERATE_DEX_METADATA": false,
              "HTML_TABLE_SCHEMA": false,
              "LOG_LEVEL": 30,
              "MAX_RENDER_SIZE_BYTES": 104857600,
              "MAX_STRING_LENGTH": 250,
              "NUM_PAST_SAMPLES_TRACKED": 3,
              "RANDOM_STATE": 12648430,
              "RESET_INDEX_VALUES": false,
              "ROW_SAMPLING_METHOD": "random",
              "SAMPLING_FACTOR": 0.1,
              "SAMPLING_METHOD": "random",
              "STRINGIFY_COLUMN_VALUES": true,
              "STRINGIFY_INDEX_VALUES": false
            },
            "sample_history": [],
            "sampling_time": "2023-08-07T03:36:44.191750",
            "user_variable_name": null,
            "variable_name": "unk_dataframe_610a7ebac640430bb9d60c189f615f61"
          }
        }
      },
      "id": "a6259280-0dd8-4c64-be22-57716dfeddc9"
    },
    {
      "cell_type": "markdown",
      "source": [
        "## Basic Analysis\n",
        "\n",
        "We use `df.describe()` to get descriptive statistics of the dataframe. This gives us a sense of the distribution of values within each feature.\n",
        "\n",
        "## Data Visualization\n",
        "\n",
        "We use seaborn's `countplot` function to visualize the count of survivors. This gives us a sense of the proportion of passengers who survived and who didn't.\n"
      ],
      "metadata": {
        "noteable": {
          "cell_type": "markdown"
        }
      },
      "id": "ceb387cc-086d-43d5-a42c-70bf37ef077b"
    },
    {
      "cell_type": "code",
      "source": [
        "# Basic analysis\n",
        "print(df.describe())\n",
        "\n",
        "# Visualization\n",
        "sns.countplot(x='Survived', data=df)\n",
        "plt.title('Survival Count')\n",
        "plt.show()"
      ],
      "outputs": [
        {
          "output_type": "stream",
          "name": "stdout",
          "text": [
            "       PassengerId    Survived      Pclass         Age       SibSp  \\\n",
            "count   891.000000  891.000000  891.000000  714.000000  891.000000   \n",
            "mean    446.000000    0.383838    2.308642   29.699118    0.523008   \n",
            "std     257.353842    0.486592    0.836071   14.526497    1.102743   \n",
            "min       1.000000    0.000000    1.000000    0.420000    0.000000   \n",
            "25%     223.500000    0.000000    2.000000   20.125000    0.000000   \n",
            "50%     446.000000    0.000000    3.000000   28.000000    0.000000   \n",
            "75%     668.500000    1.000000    3.000000   38.000000    1.000000   \n",
            "max     891.000000    1.000000    3.000000   80.000000    8.000000   \n",
            "\n",
            "            Parch        Fare  \n",
            "count  891.000000  891.000000  \n",
            "mean     0.381594   32.204208  \n",
            "std      0.806057   49.693429  \n",
            "min      0.000000    0.000000  \n",
            "25%      0.000000    7.910400  \n",
            "50%      0.000000   14.454200  \n",
            "75%      0.000000   31.000000  \n",
            "max      6.000000  512.329200  \n"
          ]
        },
        {
          "output_type": "display_data",
          "data": {
            "image/png": "[encoded data removed]"
          },
          "metadata": {}
        }
      ],
      "execution_count": null,
      "metadata": {
        "noteable": {
          "cell_type": "code"
        },
        "ExecuteTime": {
          "end_time": "2023-08-07T03:36:44.788513+00:00",
          "start_time": "2023-08-07T03:36:44.359467+00:00"
        }
      },
      "id": "fcaac431-b922-4366-bdfa-75fb816ee7bb"
    },
    {
      "cell_type": "markdown",
      "source": [
        "## Data Preprocessing\n",
        "\n",
        "Before we can train our machine learning models, we need to preprocess our data. This includes handling missing values and converting categorical data to numerical. We fill missing age values with the mean age. We also convert the 'Sex' feature to numerical using `LabelEncoder`."
      ],
      "metadata": {
        "noteable": {
          "cell_type": "markdown"
        }
      },
      "id": "be045505-0113-4a75-b57b-0f458d0ea5dc"
    },
    {
      "cell_type": "code",
      "source": [
        "from sklearn.model_selection import train_test_split\n",
        "from sklearn.preprocessing import LabelEncoder\n",
        "from sklearn.linear_model import LogisticRegression\n",
        "from sklearn.tree import DecisionTreeClassifier\n",
        "from sklearn.ensemble import RandomForestClassifier\n",
        "from sklearn.metrics import accuracy_score\n",
        "\n",
        "# Handle missing values\n",
        "df['Age'].fillna(df['Age'].mean(), inplace=True)\n",
        "\n",
        "# Convert categorical data to numerical\n",
        "le = LabelEncoder()\n",
        "df['Sex'] = le.fit_transform(df['Sex'])"
      ],
      "outputs": [],
      "execution_count": null,
      "metadata": {
        "jupyter": {
          "outputs_hidden": false,
          "source_hidden": false
        },
        "noteable": {
          "cell_type": "code"
        },
        "ExecuteTime": {
          "end_time": "2023-08-07T03:36:45.173424+00:00",
          "start_time": "2023-08-07T03:36:45.012579+00:00"
        }
      },
      "id": "162e7691-df4d-4724-af91-5ccdae8f964a"
    },
    {
      "cell_type": "markdown",
      "source": [
        "## Feature Selection\n",
        "\n",
        "We select 'Pclass', 'Sex', and 'Age' as our features and 'Survived' as our target. The choice of these features is based on our understanding of the problem domain. We believe that passenger class, sex, and age might have influenced a passenger's chances of survival."
      ],
      "metadata": {
        "noteable": {
          "cell_type": "markdown"
        }
      },
      "id": "3a444222-adac-440a-9099-e17a4607ddbb"
    },
    {
      "cell_type": "markdown",
      "source": [
        "## Splitting the Data\n",
        "\n",
        "We split our data into training and test sets. The training set is used to train our models, and the test set is used to evaluate their performance.\n",
        "\n",
        "## Model Training\n",
        "\n",
        "We train three different models - Logistic Regression, Decision Tree, and Random Forest. Each of these models has its strengths and weaknesses, and they use different algorithms to learn from the data."
      ],
      "metadata": {
        "noteable": {
          "cell_type": "markdown"
        }
      },
      "id": "af9941c6-05f1-4c25-afe4-d0ff3eeaff5e"
    },
    {
      "cell_type": "code",
      "source": [
        "# Select features and target\n",
        "X = df[['Pclass', 'Sex', 'Age']]\n",
        "y = df['Survived']\n",
        "\n",
        "# Split the data\n",
        "X_train, X_test, y_train, y_test = train_test_split(X, y, test_size=0.2, random_state=42)"
      ],
      "outputs": [],
      "execution_count": null,
      "metadata": {
        "jupyter": {
          "outputs_hidden": false,
          "source_hidden": false
        },
        "noteable": {
          "cell_type": "code"
        },
        "ExecuteTime": {
          "end_time": "2023-08-07T03:36:45.343484+00:00",
          "start_time": "2023-08-07T03:36:45.183557+00:00"
        }
      },
      "id": "59b9a582-357d-4416-bc8a-19098595f2fa"
    },
    {
      "cell_type": "markdown",
      "source": [
        "## Model Evaluation\n",
        "\n",
        "We evaluate our models using accuracy score, which is the proportion of correct predictions out of total predictions. It's a common metric for classification problems."
      ],
      "metadata": {
        "noteable": {
          "cell_type": "markdown"
        }
      },
      "id": "35ff7711-9f35-42e6-893a-af9494dfba6f"
    },
    {
      "cell_type": "code",
      "source": [
        "# Logistic Regression\n",
        "lr = LogisticRegression()\n",
        "lr.fit(X_train, y_train)\n",
        "lr_pred = lr.predict(X_test)\n",
        "lr_accuracy = accuracy_score(y_test, lr_pred)\n",
        "\n",
        "# Decision Tree\n",
        "dt = DecisionTreeClassifier()\n",
        "dt.fit(X_train, y_train)\n",
        "dt_pred = dt.predict(X_test)\n",
        "dt_accuracy = accuracy_score(y_test, dt_pred)\n",
        "\n",
        "# Random Forest\n",
        "rf = RandomForestClassifier()\n",
        "rf.fit(X_train, y_train)\n",
        "rf_pred = rf.predict(X_test)\n",
        "rf_accuracy = accuracy_score(y_test, rf_pred)\n",
        "\n",
        "# Print the accuracies\n",
        "print('Logistic Regression Accuracy:', lr_accuracy)\n",
        "print('Decision Tree Accuracy:', dt_accuracy)\n",
        "print('Random Forest Accuracy:', rf_accuracy)"
      ],
      "outputs": [
        {
          "output_type": "stream",
          "name": "stdout",
          "text": [
            "Logistic Regression Accuracy: 0.8100558659217877\n",
            "Decision Tree Accuracy: 0.776536312849162\n",
            "Random Forest Accuracy: 0.7821229050279329\n"
          ]
        }
      ],
      "execution_count": null,
      "metadata": {
        "noteable": {
          "cell_type": "code"
        },
        "ExecuteTime": {
          "end_time": "2023-08-07T03:36:45.737897+00:00",
          "start_time": "2023-08-07T03:36:45.352770+00:00"
        }
      },
      "id": "0828d52d-3631-4780-bc1b-04ed6ef02979"
    },
    {
      "cell_type": "markdown",
      "source": [
        "## Making Predictions\n",
        "\n",
        "Finally, we define a function to make predictions using our trained Logistic Regression model. This function takes age, sex, and passenger class as input and returns whether the passenger would have survived or not."
      ],
      "metadata": {
        "noteable": {
          "cell_type": "markdown"
        }
      },
      "id": "d5cb9800-00b6-4c06-a3aa-a6d2e7e85993"
    },
    {
      "cell_type": "code",
      "source": [
        "from enum import Enum\n",
        "\n",
        "class Pclass(Enum):\n",
        "    First = 1\n",
        "    Second = 2\n",
        "    Third = 3\n",
        "\n",
        "def predict_survival(age, sex, pclass):\n",
        "    # Convert sex to numerical value\n",
        "    sex = 1 if sex.lower() == 'male' else 0\n",
        "\n",
        "    # Convert pclass to numerical value\n",
        "    pclass = pclass.value\n",
        "\n",
        "    # Make prediction\n",
        "    prediction = lr.predict([[pclass, sex, age]])\n",
        "\n",
        "    # Return prediction\n",
        "    return 'Survives' if prediction[0] == 1 else 'Does not survive'\n",
        "\n",
        "# Predict whether the passenger survives or not\n",
        "print(predict_survival(25, 'female', Pclass.First))"
      ],
      "outputs": [
        {
          "output_type": "stream",
          "name": "stdout",
          "text": [
            "Survives\n"
          ]
        }
      ],
      "execution_count": null,
      "metadata": {
        "noteable": {
          "cell_type": "code"
        },
        "ExecuteTime": {
          "end_time": "2023-08-07T03:36:45.908990+00:00",
          "start_time": "2023-08-07T03:36:45.746447+00:00"
        },
        "jupyter": {
          "outputs_hidden": false
        }
      },
      "id": "93e92b06-c28e-48fe-a25f-b74640ea9347"
    },
    {
      "cell_type": "markdown",
      "source": [
        "## Model Saving\n",
        "\n",
        "After training and evaluating our models, we save the best performing model for future use. We use `pickle` to serialize our model and save it to disk. This allows us to load the model later and use it to make predictions without having to retrain it."
      ],
      "metadata": {
        "noteable": {
          "cell_type": "markdown"
        }
      },
      "id": "fb1584f2-ffe6-4f86-a47f-f29c5f6666f8"
    },
    {
      "cell_type": "code",
      "source": [
        "import pickle\n",
        "\n",
        "# Save the trained Logistic Regression model to a pickle file\n",
        "with open('logistic_regression_model.pkl', 'wb') as file:\n",
        "    pickle.dump(lr, file)"
      ],
      "outputs": [],
      "execution_count": null,
      "metadata": {
        "noteable": {
          "cell_type": "code"
        },
        "ExecuteTime": {
          "end_time": "2023-08-07T03:36:46.081094+00:00",
          "start_time": "2023-08-07T03:36:45.917246+00:00"
        }
      },
      "id": "63b5170d-3708-46e2-8394-dc343d7535d4"
    },
    {
      "cell_type": "code",
      "source": [
        "import pickle\n",
        "from skl2onnx import convert_sklearn\n",
        "from skl2onnx.common.data_types import FloatTensorType\n",
        "\n",
        "# Load the model from the pickle file\n",
        "with open('logistic_regression_model.pkl', 'rb') as file:\n",
        "    lr_model = pickle.load(file)\n",
        "\n",
        "# Convert the model to ONNX format\n",
        "initial_type = [('float_input', FloatTensorType([None, 3]))]\n",
        "onnx_model = convert_sklearn(lr_model, initial_types=initial_type)\n",
        "\n",
        "# Save the model as an ONNX file\n",
        "with open('logistic_regression_model.onnx', 'wb') as f:\n",
        "    f.write(onnx_model.SerializeToString())"
      ],
      "outputs": [
        {
          "output_type": "error",
          "ename": "ModuleNotFoundError",
          "evalue": "No module named 'skl2onnx'",
          "traceback": [
            "\u001b[0;31m---------------------------------------------------------------------------\u001b[0m",
            "\u001b[0;31mModuleNotFoundError\u001b[0m                       Traceback (most recent call last)",
            "Cell \u001b[0;32mIn[11], line 2\u001b[0m\n\u001b[1;32m      1\u001b[0m \u001b[38;5;28;01mimport\u001b[39;00m \u001b[38;5;21;01mpickle\u001b[39;00m\n\u001b[0;32m----> 2\u001b[0m \u001b[38;5;28;01mfrom\u001b[39;00m \u001b[38;5;21;01mskl2onnx\u001b[39;00m \u001b[38;5;28;01mimport\u001b[39;00m convert_sklearn\n\u001b[1;32m      3\u001b[0m \u001b[38;5;28;01mfrom\u001b[39;00m \u001b[38;5;21;01mskl2onnx\u001b[39;00m\u001b[38;5;21;01m.\u001b[39;00m\u001b[38;5;21;01mcommon\u001b[39;00m\u001b[38;5;21;01m.\u001b[39;00m\u001b[38;5;21;01mdata_types\u001b[39;00m \u001b[38;5;28;01mimport\u001b[39;00m FloatTensorType\n\u001b[1;32m      5\u001b[0m \u001b[38;5;66;03m# Load the model from the pickle file\u001b[39;00m\n",
            "\u001b[0;31mModuleNotFoundError\u001b[0m: No module named 'skl2onnx'"
          ]
        }
      ],
      "execution_count": null,
      "metadata": {
        "noteable": {
          "cell_type": "code"
        },
        "ExecuteTime": {
          "end_time": "2023-08-07T03:36:46.288517+00:00",
          "start_time": "2023-08-07T03:36:46.091551+00:00"
        },
        "scrolled": false
      },
      "id": "7dd5276d-3219-4586-b5fe-c6eae2c27a9e"
    },
    {
      "cell_type": "code",
      "source": [
        "#!pip install skl2onnx"
      ],
      "outputs": [],
      "execution_count": null,
      "metadata": {
        "jupyter": {
          "outputs_hidden": false,
          "source_hidden": false
        },
        "noteable": {
          "cell_type": "code"
        },
        "ExecuteTime": {
          "end_time": "2023-06-17T22:13:27.262734+00:00",
          "start_time": "2023-06-17T22:13:27.106463+00:00"
        }
      },
      "id": "c2273c9a-69cc-4223-9c8f-00775a915e96"
    },
    {
      "cell_type": "code",
      "source": [
        "import pickle\n",
        "from skl2onnx import convert_sklearn\n",
        "from skl2onnx.common.data_types import FloatTensorType\n",
        "\n",
        "# Load the model from the pickle file\n",
        "with open('logistic_regression_model.pkl', 'rb') as file:\n",
        "    lr_model = pickle.load(file)\n",
        "\n",
        "# Convert the model to ONNX format\n",
        "initial_type = [('float_input', FloatTensorType([None, 3]))]\n",
        "onnx_model = convert_sklearn(lr_model, initial_types=initial_type)\n",
        "\n",
        "# Save the model as an ONNX file\n",
        "with open('logistic_regression_model.onnx', 'wb') as f:\n",
        "    f.write(onnx_model.SerializeToString())"
      ],
      "outputs": [],
      "execution_count": null,
      "metadata": {
        "noteable": {
          "cell_type": "code"
        },
        "ExecuteTime": {
          "end_time": "2023-06-17T22:13:27.439020+00:00",
          "start_time": "2023-06-17T22:13:27.270513+00:00"
        }
      },
      "id": "11aa1aed-4b5a-4872-b15d-368c9ffdcb5e"
    }
  ],
  "metadata": {
    "selected_hardware_size": "small",
    "noteable": {
      "last_transaction_id": "3dd82d74-dbca-4ad2-bbfc-27c92f1b406b",
      "last_delta_id": "da60449e-7201-432f-af70-7cdfd81f600c"
    },
    "kernel_info": {
      "name": "python3"
    },
    "kernelspec": {
      "display_name": "Python 3.9",
      "language": "python",
      "name": "python3"
    },
    "nteract": {
      "version": "noteable@2.9.0"
    }
  },
  "nbformat": 4,
  "nbformat_minor": 5
}